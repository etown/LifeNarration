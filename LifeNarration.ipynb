{
 "cells": [
  {
   "cell_type": "code",
   "execution_count": null,
   "metadata": {},
   "outputs": [],
   "source": [
    "from IPython.display import display, Image, Audio\n",
    "import cv2 \n",
    "import base64\n",
    "import openai"
   ]
  },
  {
   "cell_type": "code",
   "execution_count": null,
   "metadata": {},
   "outputs": [],
   "source": [
    "video = cv2.VideoCapture(\"wearable.mp4\")\n",
    "\n",
    "base64Frames = []\n",
    "while video.isOpened():\n",
    "    success, frame = video.read()\n",
    "    if not success:\n",
    "        break\n",
    "    _, buffer = cv2.imencode(\".jpg\", frame)\n",
    "    base64Frames.append(base64.b64encode(buffer).decode(\"utf-8\"))\n",
    "\n",
    "video.release()\n",
    "print(len(base64Frames), \"frames read.\")"
   ]
  },
  {
   "cell_type": "code",
   "execution_count": null,
   "metadata": {},
   "outputs": [],
   "source": [
    "PROMPT_MESSAGES = [\n",
    "    {\n",
    "        \"role\": \"user\",\n",
    "        \"content\": [\n",
    "            \"These are frames of a video. Create a short voiceover script in the style of a super excited sports narrator who is narrating his favorite match. Except he's narrating the point of view of a human doing mundane activities but he is still super excited.\",\n",
    "            *map(lambda x: {\"image\": x, \"resize\": 768}, base64Frames[0::10]),\n",
    "        ],\n",
    "    },\n",
    "]\n",
    "params = {\n",
    "    \"model\": \"gpt-4-vision-preview\",\n",
    "    \"messages\": PROMPT_MESSAGES,\n",
    "    \"api_key\": 'XXXXXX',\n",
    "    \"headers\": {\"Openai-Version\": \"2020-11-07\"},\n",
    "    \"max_tokens\": 500,\n",
    "}\n",
    "\n",
    "result = openai.ChatCompletion.create(**params)\n",
    "print(result.choices[0].message.content)"
   ]
  },
  {
   "cell_type": "code",
   "execution_count": null,
   "metadata": {},
   "outputs": [],
   "source": [
    "PROMPT_MESSAGES = [\n",
    "     {\n",
    "            \"role\": \"user\",\n",
    "            \"content\": f\"Shorten this script so it can be read in about 30 seconds: {result.choices[0].message.content}\",\n",
    "        }\n",
    "]\n",
    "params = {\n",
    "    \"model\": \"gpt-4\",\n",
    "    \"messages\": PROMPT_MESSAGES,\n",
    "    \"api_key\": 'XXXXXX',\n",
    "    \"headers\": {\"Openai-Version\": \"2020-11-07\"},\n",
    "    \"max_tokens\": 500,\n",
    "}\n",
    "\n",
    "result = openai.ChatCompletion.create(**params)\n",
    "print(result.choices[0].message.content)"
   ]
  },
  {
   "cell_type": "code",
   "execution_count": null,
   "metadata": {},
   "outputs": [],
   "source": [
    "from elevenlabs import generate, play, set_api_key\n",
    "set_api_key(\"XXXXXX\")\n",
    "audio = generate(\n",
    "    text=result.choices[0].message.content,\n",
    "    voice=\"Oliver\",\n",
    "    model='eleven_multilingual_v2'\n",
    ")\n",
    "\n",
    "play(audio)"
   ]
  },
  {
   "cell_type": "code",
   "execution_count": null,
   "metadata": {},
   "outputs": [],
   "source": [
    "import subprocess\n",
    "import tempfile\n",
    "import os\n",
    "\n",
    "with tempfile.NamedTemporaryFile(suffix='.mp3', delete=False) as audio_file:\n",
    "    audio_file.write(audio)\n",
    "    audio_filename = audio_file.name\n",
    "\n",
    "video_filename = 'wearable.mp4'\n",
    "\n",
    "output_filename = 'output_with_audio.mp4'\n",
    "\n",
    "ffmpeg_command = [\n",
    "    'ffmpeg',\n",
    "    '-y', \n",
    "    '-i', video_filename,\n",
    "    '-i', audio_filename,\n",
    "    '-c:v', 'copy',\n",
    "    '-c:a', 'aac',\n",
    "    '-strict', 'experimental',\n",
    "    output_filename\n",
    "]\n",
    "\n",
    "subprocess.run(ffmpeg_command)\n",
    "\n",
    "os.remove(audio_filename)"
   ]
  }
 ],
 "metadata": {
  "kernelspec": {
   "display_name": "Python 3",
   "language": "python",
   "name": "python3"
  },
  "language_info": {
   "codemirror_mode": {
    "name": "ipython",
    "version": 3
   },
   "file_extension": ".py",
   "mimetype": "text/x-python",
   "name": "python",
   "nbconvert_exporter": "python",
   "pygments_lexer": "ipython3",
   "version": "3.10.12"
  }
 },
 "nbformat": 4,
 "nbformat_minor": 2
}
